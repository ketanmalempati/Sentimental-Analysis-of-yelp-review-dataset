{
 "cells": [
  {
   "cell_type": "code",
   "execution_count": 1,
   "metadata": {},
   "outputs": [
    {
     "data": {
      "application/vnd.jupyter.widget-view+json": {
       "model_id": "aa283a4530b243d5af2aaed9290be4e2",
       "version_major": 2,
       "version_minor": 0
      },
      "text/plain": [
       "VBox()"
      ]
     },
     "metadata": {},
     "output_type": "display_data"
    },
    {
     "name": "stdout",
     "output_type": "stream",
     "text": [
      "Starting Spark application\n"
     ]
    },
    {
     "data": {
      "text/html": [
       "<table>\n",
       "<tr><th>ID</th><th>YARN Application ID</th><th>Kind</th><th>State</th><th>Spark UI</th><th>Driver log</th><th>Current session?</th></tr><tr><td>4</td><td>application_1607312812821_0006</td><td>spark</td><td>idle</td><td><a target=\"_blank\" href=\"http://ip-172-31-39-100.ec2.internal:20888/proxy/application_1607312812821_0006/\" >Link</a></td><td><a target=\"_blank\" href=\"http://ip-172-31-45-133.ec2.internal:8042/node/containerlogs/container_1607312812821_0006_01_000001/livy\" >Link</a></td><td>✔</td></tr></table>"
      ],
      "text/plain": [
       "<IPython.core.display.HTML object>"
      ]
     },
     "metadata": {},
     "output_type": "display_data"
    },
    {
     "data": {
      "application/vnd.jupyter.widget-view+json": {
       "model_id": "",
       "version_major": 2,
       "version_minor": 0
      },
      "text/plain": [
       "FloatProgress(value=0.0, bar_style='info', description='Progress:', layout=Layout(height='25px', width='50%'),…"
      ]
     },
     "metadata": {},
     "output_type": "display_data"
    },
    {
     "name": "stdout",
     "output_type": "stream",
     "text": [
      "SparkSession available as 'spark'.\n"
     ]
    },
    {
     "data": {
      "application/vnd.jupyter.widget-view+json": {
       "model_id": "",
       "version_major": 2,
       "version_minor": 0
      },
      "text/plain": [
       "FloatProgress(value=0.0, bar_style='info', description='Progress:', layout=Layout(height='25px', width='50%'),…"
      ]
     },
     "metadata": {},
     "output_type": "display_data"
    },
    {
     "name": "stdout",
     "output_type": "stream",
     "text": [
      "import org.apache.spark.ml.Pipeline\n",
      "import org.apache.spark.ml.PipelineModel\n",
      "import org.apache.spark.ml.classification.NaiveBayes\n",
      "import org.apache.spark.ml.classification.NaiveBayesModel\n",
      "import org.apache.spark.ml.feature.{RegexTokenizer, StopWordsRemover, NGram, HashingTF, VectorAssembler, StringIndexer, IndexToString}\n",
      "import org.apache.spark.ml.tuning.{ParamGridBuilder, CrossValidator}\n",
      "import org.apache.spark.ml.evaluation.MulticlassClassificationEvaluator\n",
      "import org.apache.spark.mllib.util.MLUtils\n",
      "import org.apache.spark.sql.Row\n",
      "import org.apache.spark.sql.DataFrame\n",
      "import org.apache.spark.storage.StorageLevel\n"
     ]
    }
   ],
   "source": [
    "import org.apache.spark.ml.Pipeline\n",
    "import org.apache.spark.ml.PipelineModel\n",
    "import org.apache.spark.ml.classification.NaiveBayes\n",
    "import org.apache.spark.ml.classification.NaiveBayesModel\n",
    "import org.apache.spark.ml.feature.{RegexTokenizer,StopWordsRemover,NGram,HashingTF,VectorAssembler,StringIndexer,IndexToString}\n",
    "import org.apache.spark.ml.tuning.{ParamGridBuilder, CrossValidator}\n",
    "import org.apache.spark.ml.evaluation.MulticlassClassificationEvaluator\n",
    "import org.apache.spark.mllib.util.MLUtils\n",
    "\n",
    "import org.apache.spark.sql.Row\n",
    "import org.apache.spark.sql.DataFrame\n",
    "import org.apache.spark.storage.StorageLevel"
   ]
  },
  {
   "cell_type": "code",
   "execution_count": 2,
   "metadata": {},
   "outputs": [
    {
     "data": {
      "application/vnd.jupyter.widget-view+json": {
       "model_id": "ea7f7968e2b44c45adf4d4f704921992",
       "version_major": 2,
       "version_minor": 0
      },
      "text/plain": [
       "VBox()"
      ]
     },
     "metadata": {},
     "output_type": "display_data"
    },
    {
     "data": {
      "application/vnd.jupyter.widget-view+json": {
       "model_id": "",
       "version_major": 2,
       "version_minor": 0
      },
      "text/plain": [
       "FloatProgress(value=0.0, bar_style='info', description='Progress:', layout=Layout(height='25px', width='50%'),…"
      ]
     },
     "metadata": {},
     "output_type": "display_data"
    },
    {
     "name": "stdout",
     "output_type": "stream",
     "text": [
      "reviews: String = s3://bd-project-data/review.json.bz2\n",
      "reviewsDF: org.apache.spark.sql.DataFrame = [business_id: string, cool: bigint ... 7 more fields]\n",
      "warning: there was one deprecation warning; re-run with -deprecation for details\n"
     ]
    }
   ],
   "source": [
    "val reviews = \"s3://bd-project-data/review.json.bz2\"\n",
    "var reviewsDF = spark.sqlContext.read.json(reviews)\n",
    "reviewsDF.registerTempTable(\"reviews\")"
   ]
  },
  {
   "cell_type": "code",
   "execution_count": 3,
   "metadata": {},
   "outputs": [
    {
     "data": {
      "application/vnd.jupyter.widget-view+json": {
       "model_id": "ea4c638060594929b8ddd9ce225f4b20",
       "version_major": 2,
       "version_minor": 0
      },
      "text/plain": [
       "VBox()"
      ]
     },
     "metadata": {},
     "output_type": "display_data"
    },
    {
     "data": {
      "application/vnd.jupyter.widget-view+json": {
       "model_id": "",
       "version_major": 2,
       "version_minor": 0
      },
      "text/plain": [
       "FloatProgress(value=0.0, bar_style='info', description='Progress:', layout=Layout(height='25px', width='50%'),…"
      ]
     },
     "metadata": {},
     "output_type": "display_data"
    },
    {
     "name": "stdout",
     "output_type": "stream",
     "text": [
      "+-----+-------+\n",
      "|stars|  count|\n",
      "+-----+-------+\n",
      "|  1.0|1283897|\n",
      "|  2.0| 635072|\n",
      "|  3.0| 842289|\n",
      "|  4.0|1673404|\n",
      "|  5.0|3586460|\n",
      "+-----+-------+\n",
      "\n"
     ]
    }
   ],
   "source": [
    "reviewsDF.groupBy(\"stars\").count().orderBy(\"stars\").show()"
   ]
  },
  {
   "cell_type": "code",
   "execution_count": 4,
   "metadata": {},
   "outputs": [
    {
     "data": {
      "application/vnd.jupyter.widget-view+json": {
       "model_id": "e6fca7f50f194bdcbd232f6ea78af982",
       "version_major": 2,
       "version_minor": 0
      },
      "text/plain": [
       "VBox()"
      ]
     },
     "metadata": {},
     "output_type": "display_data"
    },
    {
     "data": {
      "application/vnd.jupyter.widget-view+json": {
       "model_id": "",
       "version_major": 2,
       "version_minor": 0
      },
      "text/plain": [
       "FloatProgress(value=0.0, bar_style='info', description='Progress:', layout=Layout(height='25px', width='50%'),…"
      ]
     },
     "metadata": {},
     "output_type": "display_data"
    },
    {
     "name": "stdout",
     "output_type": "stream",
     "text": [
      "reviewsDF: org.apache.spark.sql.DataFrame = [business_id: string, cool: bigint ... 7 more fields]\n"
     ]
    }
   ],
   "source": [
    "reviewsDF = reviewsDF.sample(withReplacement = false,0.2)"
   ]
  },
  {
   "cell_type": "code",
   "execution_count": 8,
   "metadata": {},
   "outputs": [
    {
     "data": {
      "application/vnd.jupyter.widget-view+json": {
       "model_id": "7ae8b9677bbe4a97b3dec502b02e72a2",
       "version_major": 2,
       "version_minor": 0
      },
      "text/plain": [
       "VBox()"
      ]
     },
     "metadata": {},
     "output_type": "display_data"
    },
    {
     "data": {
      "application/vnd.jupyter.widget-view+json": {
       "model_id": "",
       "version_major": 2,
       "version_minor": 0
      },
      "text/plain": [
       "FloatProgress(value=0.0, bar_style='info', description='Progress:', layout=Layout(height='25px', width='50%'),…"
      ]
     },
     "metadata": {},
     "output_type": "display_data"
    },
    {
     "name": "stdout",
     "output_type": "stream",
     "text": [
      "reviewsDF: org.apache.spark.sql.DataFrame = [text: string, label: int ... 1 more field]\n",
      "res9: org.apache.spark.sql.Dataset[org.apache.spark.sql.Row] = [text: string, label: int ... 1 more field]\n",
      "+-----+------+\n",
      "|label| count|\n",
      "+-----+------+\n",
      "|    1|120000|\n",
      "|    2|180000|\n",
      "+-----+------+\n",
      "\n"
     ]
    }
   ],
   "source": [
    "var reviewsDF = spark.sqlContext.sql(\n",
    "s\"\"\"\n",
    "  SELECT text, label, rowNumber FROM (\n",
    "    SELECT\n",
    "       CASE\n",
    "              WHEN reviews.stars  = 1 THEN 1\n",
    "              WHEN reviews.stars  = 2 THEN 1\n",
    "              WHEN reviews.stars  = 3 THEN 2\n",
    "              WHEN reviews.stars  = 4 THEN 2\n",
    "              WHEN reviews.stars  = 5 THEN 2\n",
    "       END AS label\n",
    "      ,reviews.text AS text\n",
    "      ,row_number() OVER (PARTITION BY stars ORDER BY rand()) AS rowNumber\n",
    "    FROM reviews\n",
    "  ) reviews\n",
    "  WHERE rowNumber <= 60000\n",
    "  \"\"\"\n",
    ")\n",
    "\n",
    "reviewsDF.persist(org.apache.spark.storage.StorageLevel.MEMORY_AND_DISK)\n",
    "\n",
    "reviewsDF.groupBy(\"label\").count().orderBy(\"label\").show()"
   ]
  },
  {
   "cell_type": "code",
   "execution_count": 10,
   "metadata": {},
   "outputs": [
    {
     "data": {
      "application/vnd.jupyter.widget-view+json": {
       "model_id": "16380546b77d476198cb7301ed6cdd78",
       "version_major": 2,
       "version_minor": 0
      },
      "text/plain": [
       "VBox()"
      ]
     },
     "metadata": {},
     "output_type": "display_data"
    },
    {
     "data": {
      "application/vnd.jupyter.widget-view+json": {
       "model_id": "",
       "version_major": 2,
       "version_minor": 0
      },
      "text/plain": [
       "FloatProgress(value=0.0, bar_style='info', description='Progress:', layout=Layout(height='25px', width='50%'),…"
      ]
     },
     "metadata": {},
     "output_type": "display_data"
    },
    {
     "name": "stdout",
     "output_type": "stream",
     "text": [
      "training: org.apache.spark.sql.DataFrame = [text: string, label: int]\n",
      "test: org.apache.spark.sql.DataFrame = [text: string, label: int]\n",
      "res19: training.type = [text: string, label: int]\n",
      "res20: test.type = [text: string, label: int]\n",
      "numTraining: Long = 250000\n",
      "numTest: Long = 50000\n",
      "numTraining = 250000, numTest = 50000\n"
     ]
    }
   ],
   "source": [
    "val training = reviewsDF.filter(reviewsDF(\"rowNumber\") <= 50000).select(\"text\",\"label\")\n",
    "val test = reviewsDF.filter(reviewsDF(\"rowNumber\") > 50000).select(\"text\",\"label\")\n",
    "\n",
    "training.persist(org.apache.spark.storage.StorageLevel.MEMORY_AND_DISK)\n",
    "test.persist(org.apache.spark.storage.StorageLevel.MEMORY_AND_DISK)\n",
    "\n",
    "val numTraining = training.count()\n",
    "val numTest = test.count()\n",
    "\n",
    "println(s\"numTraining = $numTraining, numTest = $numTest\")"
   ]
  },
  {
   "cell_type": "markdown",
   "metadata": {},
   "source": [
    "## Defining Parts of the Pipeline"
   ]
  },
  {
   "cell_type": "code",
   "execution_count": 11,
   "metadata": {},
   "outputs": [
    {
     "data": {
      "application/vnd.jupyter.widget-view+json": {
       "model_id": "af7ead104cfc44d093334cec07f64a38",
       "version_major": 2,
       "version_minor": 0
      },
      "text/plain": [
       "VBox()"
      ]
     },
     "metadata": {},
     "output_type": "display_data"
    },
    {
     "data": {
      "application/vnd.jupyter.widget-view+json": {
       "model_id": "",
       "version_major": 2,
       "version_minor": 0
      },
      "text/plain": [
       "FloatProgress(value=0.0, bar_style='info', description='Progress:', layout=Layout(height='25px', width='50%'),…"
      ]
     },
     "metadata": {},
     "output_type": "display_data"
    },
    {
     "name": "stdout",
     "output_type": "stream",
     "text": [
      "regexTokenizer: org.apache.spark.ml.feature.RegexTokenizer = regexTok_f3a30e2c4c1d\n"
     ]
    }
   ],
   "source": [
    "val regexTokenizer = { new RegexTokenizer()\n",
    "  .setPattern(\"[a-zA-Z']+\")\n",
    "  .setGaps(false)\n",
    "  .setInputCol(\"text\")\n",
    "}"
   ]
  },
  {
   "cell_type": "code",
   "execution_count": 12,
   "metadata": {},
   "outputs": [
    {
     "data": {
      "application/vnd.jupyter.widget-view+json": {
       "model_id": "2f3043a6772345069a4f064353078bad",
       "version_major": 2,
       "version_minor": 0
      },
      "text/plain": [
       "VBox()"
      ]
     },
     "metadata": {},
     "output_type": "display_data"
    },
    {
     "data": {
      "application/vnd.jupyter.widget-view+json": {
       "model_id": "",
       "version_major": 2,
       "version_minor": 0
      },
      "text/plain": [
       "FloatProgress(value=0.0, bar_style='info', description='Progress:', layout=Layout(height='25px', width='50%'),…"
      ]
     },
     "metadata": {},
     "output_type": "display_data"
    },
    {
     "name": "stdout",
     "output_type": "stream",
     "text": [
      "remover: org.apache.spark.ml.feature.StopWordsRemover = stopWords_e07341cfa475\n"
     ]
    }
   ],
   "source": [
    "val remover = { new StopWordsRemover()\n",
    "  .setInputCol(regexTokenizer.getOutputCol)\n",
    "}"
   ]
  },
  {
   "cell_type": "code",
   "execution_count": 13,
   "metadata": {},
   "outputs": [
    {
     "data": {
      "application/vnd.jupyter.widget-view+json": {
       "model_id": "89e5615564fb4fd09d32ae5a4d33e6a1",
       "version_major": 2,
       "version_minor": 0
      },
      "text/plain": [
       "VBox()"
      ]
     },
     "metadata": {},
     "output_type": "display_data"
    },
    {
     "data": {
      "application/vnd.jupyter.widget-view+json": {
       "model_id": "",
       "version_major": 2,
       "version_minor": 0
      },
      "text/plain": [
       "FloatProgress(value=0.0, bar_style='info', description='Progress:', layout=Layout(height='25px', width='50%'),…"
      ]
     },
     "metadata": {},
     "output_type": "display_data"
    },
    {
     "name": "stdout",
     "output_type": "stream",
     "text": [
      "ngram2: org.apache.spark.ml.feature.NGram = ngram_4317578f3930\n"
     ]
    }
   ],
   "source": [
    "val ngram2 = { new NGram()\n",
    "  .setInputCol(remover.getOutputCol)\n",
    "  .setN(2)\n",
    "}"
   ]
  },
  {
   "cell_type": "code",
   "execution_count": 14,
   "metadata": {},
   "outputs": [
    {
     "data": {
      "application/vnd.jupyter.widget-view+json": {
       "model_id": "5cded1ecb6c84167b9dd94e5fd76cd0f",
       "version_major": 2,
       "version_minor": 0
      },
      "text/plain": [
       "VBox()"
      ]
     },
     "metadata": {},
     "output_type": "display_data"
    },
    {
     "data": {
      "application/vnd.jupyter.widget-view+json": {
       "model_id": "",
       "version_major": 2,
       "version_minor": 0
      },
      "text/plain": [
       "FloatProgress(value=0.0, bar_style='info', description='Progress:', layout=Layout(height='25px', width='50%'),…"
      ]
     },
     "metadata": {},
     "output_type": "display_data"
    },
    {
     "name": "stdout",
     "output_type": "stream",
     "text": [
      "ngram3: org.apache.spark.ml.feature.NGram = ngram_2ac9fe31f83d\n"
     ]
    }
   ],
   "source": [
    "val ngram3 = { new NGram()\n",
    "  .setInputCol(remover.getOutputCol)\n",
    "  .setN(3)\n",
    "}"
   ]
  },
  {
   "cell_type": "code",
   "execution_count": 15,
   "metadata": {},
   "outputs": [
    {
     "data": {
      "application/vnd.jupyter.widget-view+json": {
       "model_id": "b9fb5f82bb964ba6aa3d14cb587f74b5",
       "version_major": 2,
       "version_minor": 0
      },
      "text/plain": [
       "VBox()"
      ]
     },
     "metadata": {},
     "output_type": "display_data"
    },
    {
     "data": {
      "application/vnd.jupyter.widget-view+json": {
       "model_id": "",
       "version_major": 2,
       "version_minor": 0
      },
      "text/plain": [
       "FloatProgress(value=0.0, bar_style='info', description='Progress:', layout=Layout(height='25px', width='50%'),…"
      ]
     },
     "metadata": {},
     "output_type": "display_data"
    },
    {
     "name": "stdout",
     "output_type": "stream",
     "text": [
      "removerHashingTF: org.apache.spark.ml.feature.HashingTF = hashingTF_bfa2a7da87d8\n",
      "ngram2HashingTF: org.apache.spark.ml.feature.HashingTF = hashingTF_dc57b258b1dc\n",
      "ngram3HashingTF: org.apache.spark.ml.feature.HashingTF = hashingTF_bc55afd824f7\n"
     ]
    }
   ],
   "source": [
    "val removerHashingTF = { new HashingTF()\n",
    "  .setInputCol(remover.getOutputCol)\n",
    "}\n",
    "val ngram2HashingTF = { new HashingTF()\n",
    "  .setInputCol(ngram2.getOutputCol)\n",
    "}\n",
    "val ngram3HashingTF = { new HashingTF()\n",
    "  .setInputCol(ngram3.getOutputCol)\n",
    "}"
   ]
  },
  {
   "cell_type": "code",
   "execution_count": 16,
   "metadata": {},
   "outputs": [
    {
     "data": {
      "application/vnd.jupyter.widget-view+json": {
       "model_id": "3490d194ed074e7f8cd9d21d86076f8a",
       "version_major": 2,
       "version_minor": 0
      },
      "text/plain": [
       "VBox()"
      ]
     },
     "metadata": {},
     "output_type": "display_data"
    },
    {
     "data": {
      "application/vnd.jupyter.widget-view+json": {
       "model_id": "",
       "version_major": 2,
       "version_minor": 0
      },
      "text/plain": [
       "FloatProgress(value=0.0, bar_style='info', description='Progress:', layout=Layout(height='25px', width='50%'),…"
      ]
     },
     "metadata": {},
     "output_type": "display_data"
    },
    {
     "name": "stdout",
     "output_type": "stream",
     "text": [
      "assembler: org.apache.spark.ml.feature.VectorAssembler = vecAssembler_60e693c6d4dc\n"
     ]
    }
   ],
   "source": [
    "val assembler = { new VectorAssembler()\n",
    "  .setInputCols(Array(removerHashingTF.getOutputCol, ngram2HashingTF.getOutputCol, ngram3HashingTF.getOutputCol))\n",
    "}"
   ]
  },
  {
   "cell_type": "code",
   "execution_count": 17,
   "metadata": {},
   "outputs": [
    {
     "data": {
      "application/vnd.jupyter.widget-view+json": {
       "model_id": "65e1b5f81d244cb9a49ae73652ff057a",
       "version_major": 2,
       "version_minor": 0
      },
      "text/plain": [
       "VBox()"
      ]
     },
     "metadata": {},
     "output_type": "display_data"
    },
    {
     "data": {
      "application/vnd.jupyter.widget-view+json": {
       "model_id": "",
       "version_major": 2,
       "version_minor": 0
      },
      "text/plain": [
       "FloatProgress(value=0.0, bar_style='info', description='Progress:', layout=Layout(height='25px', width='50%'),…"
      ]
     },
     "metadata": {},
     "output_type": "display_data"
    },
    {
     "name": "stdout",
     "output_type": "stream",
     "text": [
      "labelIndexer: org.apache.spark.ml.feature.StringIndexerModel = strIdx_50584bec69e7\n"
     ]
    }
   ],
   "source": [
    "val labelIndexer = { new StringIndexer()\n",
    "  .setInputCol(\"label\")\n",
    "  .setOutputCol(\"indexedLabel\")\n",
    "  .fit(reviewsDF)\n",
    "}"
   ]
  },
  {
   "cell_type": "code",
   "execution_count": 18,
   "metadata": {},
   "outputs": [
    {
     "data": {
      "application/vnd.jupyter.widget-view+json": {
       "model_id": "6532edeefcc345389639de3c7d788554",
       "version_major": 2,
       "version_minor": 0
      },
      "text/plain": [
       "VBox()"
      ]
     },
     "metadata": {},
     "output_type": "display_data"
    },
    {
     "data": {
      "application/vnd.jupyter.widget-view+json": {
       "model_id": "",
       "version_major": 2,
       "version_minor": 0
      },
      "text/plain": [
       "FloatProgress(value=0.0, bar_style='info', description='Progress:', layout=Layout(height='25px', width='50%'),…"
      ]
     },
     "metadata": {},
     "output_type": "display_data"
    },
    {
     "name": "stdout",
     "output_type": "stream",
     "text": [
      "labelConverter: org.apache.spark.ml.feature.IndexToString = idxToStr_6ac929c49b5d\n"
     ]
    }
   ],
   "source": [
    "val labelConverter = { new IndexToString()\n",
    "  .setInputCol(\"prediction\")\n",
    "  .setOutputCol(\"predictedLabel\")\n",
    "  .setLabels(labelIndexer.labels)\n",
    "}"
   ]
  },
  {
   "cell_type": "code",
   "execution_count": 19,
   "metadata": {},
   "outputs": [
    {
     "data": {
      "application/vnd.jupyter.widget-view+json": {
       "model_id": "f8b389894f22494da03e32327e9ef700",
       "version_major": 2,
       "version_minor": 0
      },
      "text/plain": [
       "VBox()"
      ]
     },
     "metadata": {},
     "output_type": "display_data"
    },
    {
     "data": {
      "application/vnd.jupyter.widget-view+json": {
       "model_id": "",
       "version_major": 2,
       "version_minor": 0
      },
      "text/plain": [
       "FloatProgress(value=0.0, bar_style='info', description='Progress:', layout=Layout(height='25px', width='50%'),…"
      ]
     },
     "metadata": {},
     "output_type": "display_data"
    },
    {
     "name": "stdout",
     "output_type": "stream",
     "text": [
      "nb: org.apache.spark.ml.classification.NaiveBayes = nb_f2ce5794ed9b\n"
     ]
    }
   ],
   "source": [
    "val nb = { new NaiveBayes()\n",
    "  .setLabelCol(labelIndexer.getOutputCol)\n",
    "  .setFeaturesCol(assembler.getOutputCol)\n",
    "  .setPredictionCol(\"prediction\")\n",
    "  .setModelType(\"multinomial\")\n",
    "}"
   ]
  },
  {
   "cell_type": "markdown",
   "metadata": {},
   "source": [
    "## Defining The Pipeline"
   ]
  },
  {
   "cell_type": "code",
   "execution_count": 20,
   "metadata": {},
   "outputs": [
    {
     "data": {
      "application/vnd.jupyter.widget-view+json": {
       "model_id": "b84a4123c48443018f4e5aab0c1448e6",
       "version_major": 2,
       "version_minor": 0
      },
      "text/plain": [
       "VBox()"
      ]
     },
     "metadata": {},
     "output_type": "display_data"
    },
    {
     "data": {
      "application/vnd.jupyter.widget-view+json": {
       "model_id": "",
       "version_major": 2,
       "version_minor": 0
      },
      "text/plain": [
       "FloatProgress(value=0.0, bar_style='info', description='Progress:', layout=Layout(height='25px', width='50%'),…"
      ]
     },
     "metadata": {},
     "output_type": "display_data"
    },
    {
     "name": "stdout",
     "output_type": "stream",
     "text": [
      "pipeline: org.apache.spark.ml.Pipeline = pipeline_7e13612dc3e8\n"
     ]
    }
   ],
   "source": [
    "val pipeline = { new Pipeline()\n",
    "  .setStages(Array(regexTokenizer, remover, ngram2, ngram3, removerHashingTF, ngram2HashingTF, ngram3HashingTF, assembler, labelIndexer, nb, labelConverter))\n",
    "}"
   ]
  },
  {
   "cell_type": "code",
   "execution_count": 21,
   "metadata": {},
   "outputs": [
    {
     "data": {
      "application/vnd.jupyter.widget-view+json": {
       "model_id": "e9aba46cc7cd44b08cfd2bab131f625d",
       "version_major": 2,
       "version_minor": 0
      },
      "text/plain": [
       "VBox()"
      ]
     },
     "metadata": {},
     "output_type": "display_data"
    },
    {
     "data": {
      "application/vnd.jupyter.widget-view+json": {
       "model_id": "",
       "version_major": 2,
       "version_minor": 0
      },
      "text/plain": [
       "FloatProgress(value=0.0, bar_style='info', description='Progress:', layout=Layout(height='25px', width='50%'),…"
      ]
     },
     "metadata": {},
     "output_type": "display_data"
    },
    {
     "name": "stdout",
     "output_type": "stream",
     "text": [
      "paramGrid: Array[org.apache.spark.ml.param.ParamMap] =\n",
      "Array({\n",
      "\thashingTF_dc57b258b1dc-numFeatures: 1000,\n",
      "\thashingTF_bc55afd824f7-numFeatures: 1000,\n",
      "\thashingTF_bfa2a7da87d8-numFeatures: 1000\n",
      "}, {\n",
      "\thashingTF_dc57b258b1dc-numFeatures: 10000,\n",
      "\thashingTF_bc55afd824f7-numFeatures: 1000,\n",
      "\thashingTF_bfa2a7da87d8-numFeatures: 1000\n",
      "}, {\n",
      "\thashingTF_dc57b258b1dc-numFeatures: 1000,\n",
      "\thashingTF_bc55afd824f7-numFeatures: 10000,\n",
      "\thashingTF_bfa2a7da87d8-numFeatures: 1000\n",
      "}, {\n",
      "\thashingTF_dc57b258b1dc-numFeatures: 10000,\n",
      "\thashingTF_bc55afd824f7-numFeatures: 10000,\n",
      "\thashingTF_bfa2a7da87d8-numFeatures: 1000\n",
      "}, {\n",
      "\thashingTF_dc57b258b1dc-numFeatures: 1000,\n",
      "\thashingTF_bc55afd824f7-numFeatures: 1000,\n",
      "\thashingTF_bfa2a7da87d8-numFeatures: 10000\n",
      "}, {\n",
      "\thashingTF_dc57b258b1dc-numFeatures: 10000,\n",
      "\thashingTF_bc55afd82..."
     ]
    }
   ],
   "source": [
    "val paramGrid = { new ParamGridBuilder()\n",
    "  .addGrid(removerHashingTF.numFeatures, Array(1000,10000))\n",
    "  .addGrid(ngram2HashingTF.numFeatures, Array(1000,10000))\n",
    "  .addGrid(ngram3HashingTF.numFeatures, Array(1000,10000))\n",
    "  .build()\n",
    "}"
   ]
  },
  {
   "cell_type": "code",
   "execution_count": 26,
   "metadata": {},
   "outputs": [
    {
     "data": {
      "application/vnd.jupyter.widget-view+json": {
       "model_id": "15e8ae7a21054a27a9feb377baef84d5",
       "version_major": 2,
       "version_minor": 0
      },
      "text/plain": [
       "VBox()"
      ]
     },
     "metadata": {},
     "output_type": "display_data"
    },
    {
     "data": {
      "application/vnd.jupyter.widget-view+json": {
       "model_id": "",
       "version_major": 2,
       "version_minor": 0
      },
      "text/plain": [
       "FloatProgress(value=0.0, bar_style='info', description='Progress:', layout=Layout(height='25px', width='50%'),…"
      ]
     },
     "metadata": {},
     "output_type": "display_data"
    },
    {
     "name": "stdout",
     "output_type": "stream",
     "text": [
      "cv: org.apache.spark.ml.tuning.CrossValidator = cv_6afd0aa9a2be\n"
     ]
    }
   ],
   "source": [
    "val cv = { new CrossValidator()\n",
    "  .setEstimator(pipeline)\n",
    "  .setEvaluator(new MulticlassClassificationEvaluator().setLabelCol(\"indexedLabel\").setPredictionCol(\"prediction\").setMetricName(\"accuracy\"))\n",
    "  .setEstimatorParamMaps(paramGrid)\n",
    "  .setNumFolds(3) // Use 3+ in practice\n",
    "}"
   ]
  },
  {
   "cell_type": "code",
   "execution_count": 28,
   "metadata": {},
   "outputs": [
    {
     "data": {
      "application/vnd.jupyter.widget-view+json": {
       "model_id": "31c975d94c5043feb0ce45792b132993",
       "version_major": 2,
       "version_minor": 0
      },
      "text/plain": [
       "VBox()"
      ]
     },
     "metadata": {},
     "output_type": "display_data"
    },
    {
     "data": {
      "application/vnd.jupyter.widget-view+json": {
       "model_id": "",
       "version_major": 2,
       "version_minor": 0
      },
      "text/plain": [
       "FloatProgress(value=0.0, bar_style='info', description='Progress:', layout=Layout(height='25px', width='50%'),…"
      ]
     },
     "metadata": {},
     "output_type": "display_data"
    },
    {
     "name": "stdout",
     "output_type": "stream",
     "text": [
      "cvModel: org.apache.spark.ml.tuning.CrossValidatorModel = cv_6afd0aa9a2be\n"
     ]
    }
   ],
   "source": [
    "val cvModel = cv.fit(training)"
   ]
  },
  {
   "cell_type": "code",
   "execution_count": 29,
   "metadata": {},
   "outputs": [
    {
     "data": {
      "application/vnd.jupyter.widget-view+json": {
       "model_id": "8af008ebae5741efa63beb612c38c0f9",
       "version_major": 2,
       "version_minor": 0
      },
      "text/plain": [
       "VBox()"
      ]
     },
     "metadata": {},
     "output_type": "display_data"
    },
    {
     "data": {
      "application/vnd.jupyter.widget-view+json": {
       "model_id": "",
       "version_major": 2,
       "version_minor": 0
      },
      "text/plain": [
       "FloatProgress(value=0.0, bar_style='info', description='Progress:', layout=Layout(height='25px', width='50%'),…"
      ]
     },
     "metadata": {},
     "output_type": "display_data"
    },
    {
     "name": "stdout",
     "output_type": "stream",
     "text": [
      "predictions: org.apache.spark.sql.DataFrame = [text: string, label: int ... 13 more fields]\n"
     ]
    }
   ],
   "source": [
    "val predictions = cvModel.transform(test)"
   ]
  },
  {
   "cell_type": "code",
   "execution_count": 31,
   "metadata": {},
   "outputs": [
    {
     "data": {
      "application/vnd.jupyter.widget-view+json": {
       "model_id": "bfc10ec370d3466ba24e2b309a9d7463",
       "version_major": 2,
       "version_minor": 0
      },
      "text/plain": [
       "VBox()"
      ]
     },
     "metadata": {},
     "output_type": "display_data"
    },
    {
     "data": {
      "application/vnd.jupyter.widget-view+json": {
       "model_id": "",
       "version_major": 2,
       "version_minor": 0
      },
      "text/plain": [
       "FloatProgress(value=0.0, bar_style='info', description='Progress:', layout=Layout(height='25px', width='50%'),…"
      ]
     },
     "metadata": {},
     "output_type": "display_data"
    },
    {
     "name": "stdout",
     "output_type": "stream",
     "text": [
      "evaluator: org.apache.spark.ml.evaluation.MulticlassClassificationEvaluator = mcEval_7f327036dd51\n",
      "precision: Double = 0.80634\n",
      "Test Error = 0.19366000000000005\n"
     ]
    }
   ],
   "source": [
    "val evaluator = { new MulticlassClassificationEvaluator()\n",
    "  .setLabelCol(\"indexedLabel\")\n",
    "  .setPredictionCol(\"prediction\")\n",
    "  .setMetricName(\"accuracy\")\n",
    "}\n",
    "val precision = evaluator.evaluate(predictions)\n",
    "println(\"Test Error = \" + (1.0 - precision))"
   ]
  },
  {
   "cell_type": "code",
   "execution_count": null,
   "metadata": {},
   "outputs": [],
   "source": []
  }
 ],
 "metadata": {
  "kernelspec": {
   "display_name": "Spark",
   "language": "",
   "name": "sparkkernel"
  },
  "language_info": {
   "codemirror_mode": "text/x-scala",
   "mimetype": "text/x-scala",
   "name": "scala",
   "pygments_lexer": "scala"
  }
 },
 "nbformat": 4,
 "nbformat_minor": 4
}
